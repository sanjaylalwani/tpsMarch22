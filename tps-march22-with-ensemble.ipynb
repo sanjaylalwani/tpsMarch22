{
 "cells": [
  {
   "cell_type": "markdown",
   "id": "837ebd43",
   "metadata": {
    "papermill": {
     "duration": 0.044989,
     "end_time": "2022-03-07T05:36:47.579031",
     "exception": false,
     "start_time": "2022-03-07T05:36:47.534042",
     "status": "completed"
    },
    "tags": []
   },
   "source": [
    "# Importing libraries"
   ]
  },
  {
   "cell_type": "code",
   "execution_count": 1,
   "id": "819403cc",
   "metadata": {
    "_cell_guid": "b1076dfc-b9ad-4769-8c92-a6c4dae69d19",
    "_uuid": "8f2839f25d086af736a60e9eeb907d3b93b6e0e5",
    "execution": {
     "iopub.execute_input": "2022-03-07T05:36:47.676085Z",
     "iopub.status.busy": "2022-03-07T05:36:47.674571Z",
     "iopub.status.idle": "2022-03-07T05:36:48.528727Z",
     "shell.execute_reply": "2022-03-07T05:36:48.527742Z",
     "shell.execute_reply.started": "2022-03-07T05:34:45.205108Z"
    },
    "papermill": {
     "duration": 0.902813,
     "end_time": "2022-03-07T05:36:48.528887",
     "exception": false,
     "start_time": "2022-03-07T05:36:47.626074",
     "status": "completed"
    },
    "tags": []
   },
   "outputs": [],
   "source": [
    "import numpy as np\n",
    "import pandas as pd\n",
    "\n",
    "import matplotlib.pyplot as plt\n",
    "from matplotlib.pyplot import figure\n",
    "import seaborn as sns\n",
    "%matplotlib inline "
   ]
  },
  {
   "cell_type": "code",
   "execution_count": 2,
   "id": "a4fa744b",
   "metadata": {
    "execution": {
     "iopub.execute_input": "2022-03-07T05:36:48.615793Z",
     "iopub.status.busy": "2022-03-07T05:36:48.615144Z",
     "iopub.status.idle": "2022-03-07T05:36:49.126821Z",
     "shell.execute_reply": "2022-03-07T05:36:49.125448Z",
     "shell.execute_reply.started": "2022-03-07T05:34:45.213175Z"
    },
    "papermill": {
     "duration": 0.556926,
     "end_time": "2022-03-07T05:36:49.127003",
     "exception": false,
     "start_time": "2022-03-07T05:36:48.570077",
     "status": "completed"
    },
    "tags": []
   },
   "outputs": [],
   "source": [
    "import xgboost as xgb\n",
    "from xgboost import plot_tree\n",
    "from xgboost import plot_importance\n",
    "\n",
    "from sklearn.ensemble import RandomForestRegressor\n",
    "\n",
    "from catboost import CatBoostRegressor\n",
    "\n",
    "from sklearn.metrics import mean_absolute_error as mae\n",
    "from sklearn.model_selection import train_test_split"
   ]
  },
  {
   "cell_type": "markdown",
   "id": "23c3364d",
   "metadata": {
    "papermill": {
     "duration": 0.072954,
     "end_time": "2022-03-07T05:36:49.275267",
     "exception": false,
     "start_time": "2022-03-07T05:36:49.202313",
     "status": "completed"
    },
    "tags": []
   },
   "source": [
    "# Data Extraction"
   ]
  },
  {
   "cell_type": "code",
   "execution_count": 3,
   "id": "e0b6be77",
   "metadata": {
    "execution": {
     "iopub.execute_input": "2022-03-07T05:36:49.420118Z",
     "iopub.status.busy": "2022-03-07T05:36:49.419439Z",
     "iopub.status.idle": "2022-03-07T05:36:50.158940Z",
     "shell.execute_reply": "2022-03-07T05:36:50.158287Z",
     "shell.execute_reply.started": "2022-03-07T05:34:45.223666Z"
    },
    "papermill": {
     "duration": 0.811287,
     "end_time": "2022-03-07T05:36:50.159070",
     "exception": false,
     "start_time": "2022-03-07T05:36:49.347783",
     "status": "completed"
    },
    "tags": []
   },
   "outputs": [],
   "source": [
    "train_df = pd.read_csv('../input/tabular-playground-series-mar-2022/train.csv')\n",
    "test_df  = pd.read_csv('../input/tabular-playground-series-mar-2022/test.csv')"
   ]
  },
  {
   "cell_type": "code",
   "execution_count": 4,
   "id": "164c6de5",
   "metadata": {
    "execution": {
     "iopub.execute_input": "2022-03-07T05:36:50.252658Z",
     "iopub.status.busy": "2022-03-07T05:36:50.252061Z",
     "iopub.status.idle": "2022-03-07T05:36:50.263842Z",
     "shell.execute_reply": "2022-03-07T05:36:50.264244Z",
     "shell.execute_reply.started": "2022-03-07T05:34:45.642511Z"
    },
    "papermill": {
     "duration": 0.061594,
     "end_time": "2022-03-07T05:36:50.264383",
     "exception": false,
     "start_time": "2022-03-07T05:36:50.202789",
     "status": "completed"
    },
    "tags": []
   },
   "outputs": [
    {
     "data": {
      "text/html": [
       "<div>\n",
       "<style scoped>\n",
       "    .dataframe tbody tr th:only-of-type {\n",
       "        vertical-align: middle;\n",
       "    }\n",
       "\n",
       "    .dataframe tbody tr th {\n",
       "        vertical-align: top;\n",
       "    }\n",
       "\n",
       "    .dataframe thead th {\n",
       "        text-align: right;\n",
       "    }\n",
       "</style>\n",
       "<table border=\"1\" class=\"dataframe\">\n",
       "  <thead>\n",
       "    <tr style=\"text-align: right;\">\n",
       "      <th></th>\n",
       "      <th>row_id</th>\n",
       "      <th>time</th>\n",
       "      <th>x</th>\n",
       "      <th>y</th>\n",
       "      <th>direction</th>\n",
       "      <th>congestion</th>\n",
       "    </tr>\n",
       "  </thead>\n",
       "  <tbody>\n",
       "    <tr>\n",
       "      <th>0</th>\n",
       "      <td>0</td>\n",
       "      <td>1991-04-01 00:00:00</td>\n",
       "      <td>0</td>\n",
       "      <td>0</td>\n",
       "      <td>EB</td>\n",
       "      <td>70</td>\n",
       "    </tr>\n",
       "    <tr>\n",
       "      <th>1</th>\n",
       "      <td>1</td>\n",
       "      <td>1991-04-01 00:00:00</td>\n",
       "      <td>0</td>\n",
       "      <td>0</td>\n",
       "      <td>NB</td>\n",
       "      <td>49</td>\n",
       "    </tr>\n",
       "    <tr>\n",
       "      <th>2</th>\n",
       "      <td>2</td>\n",
       "      <td>1991-04-01 00:00:00</td>\n",
       "      <td>0</td>\n",
       "      <td>0</td>\n",
       "      <td>SB</td>\n",
       "      <td>24</td>\n",
       "    </tr>\n",
       "    <tr>\n",
       "      <th>3</th>\n",
       "      <td>3</td>\n",
       "      <td>1991-04-01 00:00:00</td>\n",
       "      <td>0</td>\n",
       "      <td>1</td>\n",
       "      <td>EB</td>\n",
       "      <td>18</td>\n",
       "    </tr>\n",
       "    <tr>\n",
       "      <th>4</th>\n",
       "      <td>4</td>\n",
       "      <td>1991-04-01 00:00:00</td>\n",
       "      <td>0</td>\n",
       "      <td>1</td>\n",
       "      <td>NB</td>\n",
       "      <td>60</td>\n",
       "    </tr>\n",
       "    <tr>\n",
       "      <th>5</th>\n",
       "      <td>5</td>\n",
       "      <td>1991-04-01 00:00:00</td>\n",
       "      <td>0</td>\n",
       "      <td>1</td>\n",
       "      <td>SB</td>\n",
       "      <td>58</td>\n",
       "    </tr>\n",
       "  </tbody>\n",
       "</table>\n",
       "</div>"
      ],
      "text/plain": [
       "   row_id                 time  x  y direction  congestion\n",
       "0       0  1991-04-01 00:00:00  0  0        EB          70\n",
       "1       1  1991-04-01 00:00:00  0  0        NB          49\n",
       "2       2  1991-04-01 00:00:00  0  0        SB          24\n",
       "3       3  1991-04-01 00:00:00  0  1        EB          18\n",
       "4       4  1991-04-01 00:00:00  0  1        NB          60\n",
       "5       5  1991-04-01 00:00:00  0  1        SB          58"
      ]
     },
     "execution_count": 4,
     "metadata": {},
     "output_type": "execute_result"
    }
   ],
   "source": [
    "train_df.head(6)"
   ]
  },
  {
   "cell_type": "code",
   "execution_count": 5,
   "id": "7201699b",
   "metadata": {
    "execution": {
     "iopub.execute_input": "2022-03-07T05:36:50.353701Z",
     "iopub.status.busy": "2022-03-07T05:36:50.353048Z",
     "iopub.status.idle": "2022-03-07T05:36:50.355573Z",
     "shell.execute_reply": "2022-03-07T05:36:50.356056Z",
     "shell.execute_reply.started": "2022-03-07T05:34:45.656738Z"
    },
    "papermill": {
     "duration": 0.048911,
     "end_time": "2022-03-07T05:36:50.356191",
     "exception": false,
     "start_time": "2022-03-07T05:36:50.307280",
     "status": "completed"
    },
    "tags": []
   },
   "outputs": [
    {
     "data": {
      "text/plain": [
       "(848835, 6)"
      ]
     },
     "execution_count": 5,
     "metadata": {},
     "output_type": "execute_result"
    }
   ],
   "source": [
    "train_df.shape"
   ]
  },
  {
   "cell_type": "code",
   "execution_count": 6,
   "id": "feb9d173",
   "metadata": {
    "execution": {
     "iopub.execute_input": "2022-03-07T05:36:50.447771Z",
     "iopub.status.busy": "2022-03-07T05:36:50.446167Z",
     "iopub.status.idle": "2022-03-07T05:36:50.448368Z",
     "shell.execute_reply": "2022-03-07T05:36:50.448789Z",
     "shell.execute_reply.started": "2022-03-07T05:34:45.665639Z"
    },
    "papermill": {
     "duration": 0.050647,
     "end_time": "2022-03-07T05:36:50.448909",
     "exception": false,
     "start_time": "2022-03-07T05:36:50.398262",
     "status": "completed"
    },
    "tags": []
   },
   "outputs": [],
   "source": [
    "def missing_percent_of_column(train_set):\n",
    "    nan_percent = 100*(train_set.isnull().sum()/len(train_set))\n",
    "    nan_percent = nan_percent[nan_percent>0].sort_values(ascending=False).round(1)\n",
    "    DataFrame = pd.DataFrame(nan_percent)\n",
    "    # Rename the columns\n",
    "    mis_percent_table = DataFrame.rename(columns = {0 : '% of Misiing Values'}) \n",
    "    # Sort the table by percentage of missing descending\n",
    "    mis_percent = mis_percent_table\n",
    "    return mis_percent"
   ]
  },
  {
   "cell_type": "code",
   "execution_count": 7,
   "id": "72283a37",
   "metadata": {
    "execution": {
     "iopub.execute_input": "2022-03-07T05:36:50.537183Z",
     "iopub.status.busy": "2022-03-07T05:36:50.536502Z",
     "iopub.status.idle": "2022-03-07T05:36:50.701260Z",
     "shell.execute_reply": "2022-03-07T05:36:50.701824Z",
     "shell.execute_reply.started": "2022-03-07T05:34:45.673769Z"
    },
    "papermill": {
     "duration": 0.210415,
     "end_time": "2022-03-07T05:36:50.701999",
     "exception": false,
     "start_time": "2022-03-07T05:36:50.491584",
     "status": "completed"
    },
    "tags": []
   },
   "outputs": [
    {
     "data": {
      "text/html": [
       "<div>\n",
       "<style scoped>\n",
       "    .dataframe tbody tr th:only-of-type {\n",
       "        vertical-align: middle;\n",
       "    }\n",
       "\n",
       "    .dataframe tbody tr th {\n",
       "        vertical-align: top;\n",
       "    }\n",
       "\n",
       "    .dataframe thead th {\n",
       "        text-align: right;\n",
       "    }\n",
       "</style>\n",
       "<table border=\"1\" class=\"dataframe\">\n",
       "  <thead>\n",
       "    <tr style=\"text-align: right;\">\n",
       "      <th></th>\n",
       "      <th>% of Misiing Values</th>\n",
       "    </tr>\n",
       "  </thead>\n",
       "  <tbody>\n",
       "  </tbody>\n",
       "</table>\n",
       "</div>"
      ],
      "text/plain": [
       "Empty DataFrame\n",
       "Columns: [% of Misiing Values]\n",
       "Index: []"
      ]
     },
     "execution_count": 7,
     "metadata": {},
     "output_type": "execute_result"
    }
   ],
   "source": [
    "miss = missing_percent_of_column(train_df)\n",
    "miss"
   ]
  },
  {
   "cell_type": "markdown",
   "id": "124f925b",
   "metadata": {
    "papermill": {
     "duration": 0.042206,
     "end_time": "2022-03-07T05:36:50.788125",
     "exception": false,
     "start_time": "2022-03-07T05:36:50.745919",
     "status": "completed"
    },
    "tags": []
   },
   "source": [
    "# Exploratory Data Analysis(EDA)"
   ]
  },
  {
   "cell_type": "code",
   "execution_count": 8,
   "id": "4ca77548",
   "metadata": {
    "execution": {
     "iopub.execute_input": "2022-03-07T05:36:50.963059Z",
     "iopub.status.busy": "2022-03-07T05:36:50.962334Z",
     "iopub.status.idle": "2022-03-07T05:36:51.812087Z",
     "shell.execute_reply": "2022-03-07T05:36:51.811435Z",
     "shell.execute_reply.started": "2022-03-07T05:34:45.843786Z"
    },
    "papermill": {
     "duration": 0.981871,
     "end_time": "2022-03-07T05:36:51.812221",
     "exception": false,
     "start_time": "2022-03-07T05:36:50.830350",
     "status": "completed"
    },
    "tags": []
   },
   "outputs": [
    {
     "data": {
      "text/plain": [
       "<AxesSubplot:xlabel='direction', ylabel='congestion'>"
      ]
     },
     "execution_count": 8,
     "metadata": {},
     "output_type": "execute_result"
    },
    {
     "data": {
      "image/png": "[encoded data removed]",
      "text/plain": [
       "<Figure size 576x432 with 1 Axes>"
      ]
     },
     "metadata": {},
     "output_type": "display_data"
    }
   ],
   "source": [
    "sns.set(rc={'figure.figsize':(8,6)})\n",
    "sns.boxplot(x='direction', y='congestion', data=train_df)"
   ]
  },
  {
   "cell_type": "code",
   "execution_count": 9,
   "id": "4c705641",
   "metadata": {
    "execution": {
     "iopub.execute_input": "2022-03-07T05:36:51.980878Z",
     "iopub.status.busy": "2022-03-07T05:36:51.980155Z",
     "iopub.status.idle": "2022-03-07T05:36:52.944008Z",
     "shell.execute_reply": "2022-03-07T05:36:52.944433Z",
     "shell.execute_reply.started": "2022-03-07T05:34:46.712992Z"
    },
    "papermill": {
     "duration": 1.087489,
     "end_time": "2022-03-07T05:36:52.944582",
     "exception": false,
     "start_time": "2022-03-07T05:36:51.857093",
     "status": "completed"
    },
    "tags": []
   },
   "outputs": [
    {
     "data": {
      "text/plain": [
       "<AxesSubplot:xlabel='direction', ylabel='count'>"
      ]
     },
     "execution_count": 9,
     "metadata": {},
     "output_type": "execute_result"
    },
    {
     "data": {
      "image/png": "[encoded data removed]",
      "text/plain": [
       "<Figure size 576x432 with 1 Axes>"
      ]
     },
     "metadata": {},
     "output_type": "display_data"
    }
   ],
   "source": [
    "sns.countplot(x='direction', data=train_df)"
   ]
  },
  {
   "cell_type": "code",
   "execution_count": 10,
   "id": "d0269f25",
   "metadata": {
    "execution": {
     "iopub.execute_input": "2022-03-07T05:36:53.040396Z",
     "iopub.status.busy": "2022-03-07T05:36:53.039096Z",
     "iopub.status.idle": "2022-03-07T05:36:56.177966Z",
     "shell.execute_reply": "2022-03-07T05:36:56.178380Z",
     "shell.execute_reply.started": "2022-03-07T05:34:47.753017Z"
    },
    "papermill": {
     "duration": 3.188983,
     "end_time": "2022-03-07T05:36:56.178541",
     "exception": false,
     "start_time": "2022-03-07T05:36:52.989558",
     "status": "completed"
    },
    "tags": []
   },
   "outputs": [
    {
     "data": {
      "text/plain": [
       "<AxesSubplot:xlabel='congestion', ylabel='Count'>"
      ]
     },
     "execution_count": 10,
     "metadata": {},
     "output_type": "execute_result"
    },
    {
     "data": {
      "image/png": "[encoded data removed]",
      "text/plain": [
       "<Figure size 576x432 with 1 Axes>"
      ]
     },
     "metadata": {},
     "output_type": "display_data"
    }
   ],
   "source": [
    "sns.histplot(data=train_df, x=\"congestion\", binwidth=5,multiple=\"stack\", kde=True, bins=20)"
   ]
  },
  {
   "cell_type": "markdown",
   "id": "8ad9301c",
   "metadata": {
    "papermill": {
     "duration": 0.046074,
     "end_time": "2022-03-07T05:36:56.271356",
     "exception": false,
     "start_time": "2022-03-07T05:36:56.225282",
     "status": "completed"
    },
    "tags": []
   },
   "source": [
    "# Data Preparation"
   ]
  },
  {
   "cell_type": "code",
   "execution_count": 11,
   "id": "ab727600",
   "metadata": {
    "execution": {
     "iopub.execute_input": "2022-03-07T05:36:56.410455Z",
     "iopub.status.busy": "2022-03-07T05:36:56.409668Z",
     "iopub.status.idle": "2022-03-07T05:36:56.517890Z",
     "shell.execute_reply": "2022-03-07T05:36:56.517392Z",
     "shell.execute_reply.started": "2022-03-07T05:34:51.082860Z"
    },
    "papermill": {
     "duration": 0.200884,
     "end_time": "2022-03-07T05:36:56.518009",
     "exception": false,
     "start_time": "2022-03-07T05:36:56.317125",
     "status": "completed"
    },
    "tags": []
   },
   "outputs": [],
   "source": [
    "train_df['time']= pd.to_datetime(train_df['time'])\n",
    "test_df['time']= pd.to_datetime(test_df['time'])"
   ]
  },
  {
   "cell_type": "code",
   "execution_count": 12,
   "id": "16814a1d",
   "metadata": {
    "execution": {
     "iopub.execute_input": "2022-03-07T05:36:56.618331Z",
     "iopub.status.busy": "2022-03-07T05:36:56.617656Z",
     "iopub.status.idle": "2022-03-07T05:36:57.118081Z",
     "shell.execute_reply": "2022-03-07T05:36:57.117582Z",
     "shell.execute_reply.started": "2022-03-07T05:34:51.214879Z"
    },
    "papermill": {
     "duration": 0.553622,
     "end_time": "2022-03-07T05:36:57.118202",
     "exception": false,
     "start_time": "2022-03-07T05:36:56.564580",
     "status": "completed"
    },
    "tags": []
   },
   "outputs": [],
   "source": [
    "train_df['month'] = train_df['time'].dt.month\n",
    "train_df['day'] = train_df['time'].dt.day\n",
    "train_df['daytime'] = train_df['time'].dt.hour * 60 + train_df['time'].dt.minute\n",
    "train_df['weekday'] = train_df['time'].dt.weekday\n",
    "train_df['hour'] = train_df['time'].dt.hour\n",
    "train_df['dayofyear'] = train_df['time'].dt.dayofyear\n",
    "\n",
    "test_df['month'] = test_df['time'].dt.month\n",
    "test_df['day'] = test_df['time'].dt.day\n",
    "test_df['daytime'] = test_df['time'].dt.hour * 60 + test_df['time'].dt.minute\n",
    "test_df['hour'] = test_df['time'].dt.hour\n",
    "test_df['weekday'] = test_df['time'].dt.weekday\n",
    "test_df['dayofyear'] = test_df['time'].dt.dayofyear\n"
   ]
  },
  {
   "cell_type": "markdown",
   "id": "35e2e3eb",
   "metadata": {
    "papermill": {
     "duration": 0.045939,
     "end_time": "2022-03-07T05:36:57.211807",
     "exception": false,
     "start_time": "2022-03-07T05:36:57.165868",
     "status": "completed"
    },
    "tags": []
   },
   "source": [
    "Removing few Outliers"
   ]
  },
  {
   "cell_type": "code",
   "execution_count": 13,
   "id": "4c3e4f37",
   "metadata": {
    "execution": {
     "iopub.execute_input": "2022-03-07T05:36:57.309995Z",
     "iopub.status.busy": "2022-03-07T05:36:57.309032Z",
     "iopub.status.idle": "2022-03-07T05:36:57.496869Z",
     "shell.execute_reply": "2022-03-07T05:36:57.496227Z",
     "shell.execute_reply.started": "2022-03-07T05:34:51.711352Z"
    },
    "papermill": {
     "duration": 0.238781,
     "end_time": "2022-03-07T05:36:57.497012",
     "exception": false,
     "start_time": "2022-03-07T05:36:57.258231",
     "status": "completed"
    },
    "tags": []
   },
   "outputs": [],
   "source": [
    "train_df = train_df[(train_df.month != 5) | (train_df.day != 27)]\n",
    "train_df = train_df[(train_df.month != 7) | (train_df.day != 4)]\n",
    "train_df = train_df[(train_df.month != 9) | (train_df.day != 2)]"
   ]
  },
  {
   "cell_type": "code",
   "execution_count": 14,
   "id": "b1c482fc",
   "metadata": {
    "execution": {
     "iopub.execute_input": "2022-03-07T05:36:57.608102Z",
     "iopub.status.busy": "2022-03-07T05:36:57.607151Z",
     "iopub.status.idle": "2022-03-07T05:36:57.764388Z",
     "shell.execute_reply": "2022-03-07T05:36:57.763893Z",
     "shell.execute_reply.started": "2022-03-07T05:34:51.852060Z"
    },
    "papermill": {
     "duration": 0.220349,
     "end_time": "2022-03-07T05:36:57.764530",
     "exception": false,
     "start_time": "2022-03-07T05:36:57.544181",
     "status": "completed"
    },
    "tags": []
   },
   "outputs": [],
   "source": [
    "df = train_df[['hour','direction','x','y','congestion','weekday']]\n",
    "df = df.groupby(by=['hour','direction','x','y','weekday'], dropna=False).mean()"
   ]
  },
  {
   "cell_type": "code",
   "execution_count": 15,
   "id": "586a026d",
   "metadata": {
    "execution": {
     "iopub.execute_input": "2022-03-07T05:36:57.863787Z",
     "iopub.status.busy": "2022-03-07T05:36:57.863215Z",
     "iopub.status.idle": "2022-03-07T05:36:59.192462Z",
     "shell.execute_reply": "2022-03-07T05:36:59.191189Z",
     "shell.execute_reply.started": "2022-03-07T05:34:51.989134Z"
    },
    "papermill": {
     "duration": 1.381591,
     "end_time": "2022-03-07T05:36:59.192670",
     "exception": false,
     "start_time": "2022-03-07T05:36:57.811079",
     "status": "completed"
    },
    "tags": []
   },
   "outputs": [
    {
     "data": {
      "text/plain": [
       "<matplotlib.legend.Legend at 0x7ff9729ac510>"
      ]
     },
     "execution_count": 15,
     "metadata": {},
     "output_type": "execute_result"
    },
    {
     "data": {
      "image/png": "[encoded data removed]",
      "text/plain": [
       "<Figure size 720x432 with 1 Axes>"
      ]
     },
     "metadata": {},
     "output_type": "display_data"
    }
   ],
   "source": [
    "sns.set(rc={'figure.figsize':(10,6)})\n",
    "fg=sns.scatterplot(data=df, x='weekday',y='congestion',size=\"congestion\")\n",
    "fg.legend(bbox_to_anchor= (1.15,1))"
   ]
  },
  {
   "cell_type": "code",
   "execution_count": 16,
   "id": "588d1439",
   "metadata": {
    "execution": {
     "iopub.execute_input": "2022-03-07T05:36:59.375484Z",
     "iopub.status.busy": "2022-03-07T05:36:59.374639Z",
     "iopub.status.idle": "2022-03-07T05:36:59.376809Z",
     "shell.execute_reply": "2022-03-07T05:36:59.376175Z",
     "shell.execute_reply.started": "2022-03-07T05:34:52.922682Z"
    },
    "papermill": {
     "duration": 0.093021,
     "end_time": "2022-03-07T05:36:59.376956",
     "exception": false,
     "start_time": "2022-03-07T05:36:59.283935",
     "status": "completed"
    },
    "tags": []
   },
   "outputs": [],
   "source": [
    "def isWeekDay(date):\n",
    "    if date > 4:\n",
    "        return 1\n",
    "    else:\n",
    "        return 0"
   ]
  },
  {
   "cell_type": "code",
   "execution_count": 17,
   "id": "e638ff99",
   "metadata": {
    "execution": {
     "iopub.execute_input": "2022-03-07T05:36:59.517642Z",
     "iopub.status.busy": "2022-03-07T05:36:59.516910Z",
     "iopub.status.idle": "2022-03-07T05:36:59.996720Z",
     "shell.execute_reply": "2022-03-07T05:36:59.997886Z",
     "shell.execute_reply.started": "2022-03-07T05:34:52.928326Z"
    },
    "papermill": {
     "duration": 0.535203,
     "end_time": "2022-03-07T05:36:59.998122",
     "exception": false,
     "start_time": "2022-03-07T05:36:59.462919",
     "status": "completed"
    },
    "tags": []
   },
   "outputs": [],
   "source": [
    "train_df['isWeekDay'] = train_df['day'].apply(isWeekDay) \n",
    "test_df['isWeekDay'] = test_df['day'].apply(isWeekDay) "
   ]
  },
  {
   "cell_type": "code",
   "execution_count": 18,
   "id": "3eddd798",
   "metadata": {
    "execution": {
     "iopub.execute_input": "2022-03-07T05:37:00.177162Z",
     "iopub.status.busy": "2022-03-07T05:37:00.176362Z",
     "iopub.status.idle": "2022-03-07T05:37:01.672517Z",
     "shell.execute_reply": "2022-03-07T05:37:01.673015Z",
     "shell.execute_reply.started": "2022-03-07T05:34:53.362305Z"
    },
    "papermill": {
     "duration": 1.592943,
     "end_time": "2022-03-07T05:37:01.673165",
     "exception": false,
     "start_time": "2022-03-07T05:37:00.080222",
     "status": "completed"
    },
    "tags": []
   },
   "outputs": [
    {
     "data": {
      "text/plain": [
       "<AxesSubplot:xlabel='direction', ylabel='hour'>"
      ]
     },
     "execution_count": 18,
     "metadata": {},
     "output_type": "execute_result"
    },
    {
     "data": {
      "image/png": "[encoded data removed]",
      "text/plain": [
       "<Figure size 720x432 with 1 Axes>"
      ]
     },
     "metadata": {},
     "output_type": "display_data"
    }
   ],
   "source": [
    "sns.set(rc={'figure.figsize':(10,6)})\n",
    "sns.scatterplot(data=df, size=\"congestion\",hue='congestion', y='hour', x='direction')"
   ]
  },
  {
   "cell_type": "code",
   "execution_count": 19,
   "id": "66586384",
   "metadata": {
    "execution": {
     "iopub.execute_input": "2022-03-07T05:37:01.780405Z",
     "iopub.status.busy": "2022-03-07T05:37:01.779320Z",
     "iopub.status.idle": "2022-03-07T05:37:01.860982Z",
     "shell.execute_reply": "2022-03-07T05:37:01.861436Z",
     "shell.execute_reply.started": "2022-03-07T05:34:54.642313Z"
    },
    "papermill": {
     "duration": 0.13757,
     "end_time": "2022-03-07T05:37:01.861602",
     "exception": false,
     "start_time": "2022-03-07T05:37:01.724032",
     "status": "completed"
    },
    "tags": []
   },
   "outputs": [],
   "source": [
    "train_df = train_df.drop('time', axis='columns')\n",
    "test_df = test_df.drop('time', axis='columns')"
   ]
  },
  {
   "cell_type": "code",
   "execution_count": 20,
   "id": "2a6c9214",
   "metadata": {
    "execution": {
     "iopub.execute_input": "2022-03-07T05:37:01.973764Z",
     "iopub.status.busy": "2022-03-07T05:37:01.973035Z",
     "iopub.status.idle": "2022-03-07T05:37:01.976943Z",
     "shell.execute_reply": "2022-03-07T05:37:01.977322Z",
     "shell.execute_reply.started": "2022-03-07T05:34:54.702734Z"
    },
    "papermill": {
     "duration": 0.06481,
     "end_time": "2022-03-07T05:37:01.977457",
     "exception": false,
     "start_time": "2022-03-07T05:37:01.912647",
     "status": "completed"
    },
    "tags": []
   },
   "outputs": [
    {
     "data": {
      "text/html": [
       "<div>\n",
       "<style scoped>\n",
       "    .dataframe tbody tr th:only-of-type {\n",
       "        vertical-align: middle;\n",
       "    }\n",
       "\n",
       "    .dataframe tbody tr th {\n",
       "        vertical-align: top;\n",
       "    }\n",
       "\n",
       "    .dataframe thead th {\n",
       "        text-align: right;\n",
       "    }\n",
       "</style>\n",
       "<table border=\"1\" class=\"dataframe\">\n",
       "  <thead>\n",
       "    <tr style=\"text-align: right;\">\n",
       "      <th></th>\n",
       "      <th>row_id</th>\n",
       "      <th>x</th>\n",
       "      <th>y</th>\n",
       "      <th>direction</th>\n",
       "      <th>congestion</th>\n",
       "      <th>month</th>\n",
       "      <th>day</th>\n",
       "      <th>daytime</th>\n",
       "      <th>weekday</th>\n",
       "      <th>hour</th>\n",
       "      <th>dayofyear</th>\n",
       "      <th>isWeekDay</th>\n",
       "    </tr>\n",
       "  </thead>\n",
       "  <tbody>\n",
       "    <tr>\n",
       "      <th>0</th>\n",
       "      <td>0</td>\n",
       "      <td>0</td>\n",
       "      <td>0</td>\n",
       "      <td>EB</td>\n",
       "      <td>70</td>\n",
       "      <td>4</td>\n",
       "      <td>1</td>\n",
       "      <td>0</td>\n",
       "      <td>0</td>\n",
       "      <td>0</td>\n",
       "      <td>91</td>\n",
       "      <td>0</td>\n",
       "    </tr>\n",
       "    <tr>\n",
       "      <th>1</th>\n",
       "      <td>1</td>\n",
       "      <td>0</td>\n",
       "      <td>0</td>\n",
       "      <td>NB</td>\n",
       "      <td>49</td>\n",
       "      <td>4</td>\n",
       "      <td>1</td>\n",
       "      <td>0</td>\n",
       "      <td>0</td>\n",
       "      <td>0</td>\n",
       "      <td>91</td>\n",
       "      <td>0</td>\n",
       "    </tr>\n",
       "    <tr>\n",
       "      <th>2</th>\n",
       "      <td>2</td>\n",
       "      <td>0</td>\n",
       "      <td>0</td>\n",
       "      <td>SB</td>\n",
       "      <td>24</td>\n",
       "      <td>4</td>\n",
       "      <td>1</td>\n",
       "      <td>0</td>\n",
       "      <td>0</td>\n",
       "      <td>0</td>\n",
       "      <td>91</td>\n",
       "      <td>0</td>\n",
       "    </tr>\n",
       "    <tr>\n",
       "      <th>3</th>\n",
       "      <td>3</td>\n",
       "      <td>0</td>\n",
       "      <td>1</td>\n",
       "      <td>EB</td>\n",
       "      <td>18</td>\n",
       "      <td>4</td>\n",
       "      <td>1</td>\n",
       "      <td>0</td>\n",
       "      <td>0</td>\n",
       "      <td>0</td>\n",
       "      <td>91</td>\n",
       "      <td>0</td>\n",
       "    </tr>\n",
       "    <tr>\n",
       "      <th>4</th>\n",
       "      <td>4</td>\n",
       "      <td>0</td>\n",
       "      <td>1</td>\n",
       "      <td>NB</td>\n",
       "      <td>60</td>\n",
       "      <td>4</td>\n",
       "      <td>1</td>\n",
       "      <td>0</td>\n",
       "      <td>0</td>\n",
       "      <td>0</td>\n",
       "      <td>91</td>\n",
       "      <td>0</td>\n",
       "    </tr>\n",
       "  </tbody>\n",
       "</table>\n",
       "</div>"
      ],
      "text/plain": [
       "   row_id  x  y direction  congestion  month  day  daytime  weekday  hour  \\\n",
       "0       0  0  0        EB          70      4    1        0        0     0   \n",
       "1       1  0  0        NB          49      4    1        0        0     0   \n",
       "2       2  0  0        SB          24      4    1        0        0     0   \n",
       "3       3  0  1        EB          18      4    1        0        0     0   \n",
       "4       4  0  1        NB          60      4    1        0        0     0   \n",
       "\n",
       "   dayofyear  isWeekDay  \n",
       "0         91          0  \n",
       "1         91          0  \n",
       "2         91          0  \n",
       "3         91          0  \n",
       "4         91          0  "
      ]
     },
     "execution_count": 20,
     "metadata": {},
     "output_type": "execute_result"
    }
   ],
   "source": [
    "train_df.head(5)"
   ]
  },
  {
   "cell_type": "code",
   "execution_count": 21,
   "id": "1637bd6a",
   "metadata": {
    "execution": {
     "iopub.execute_input": "2022-03-07T05:37:02.085496Z",
     "iopub.status.busy": "2022-03-07T05:37:02.084293Z",
     "iopub.status.idle": "2022-03-07T05:37:02.160492Z",
     "shell.execute_reply": "2022-03-07T05:37:02.160036Z",
     "shell.execute_reply.started": "2022-03-07T05:34:54.716482Z"
    },
    "papermill": {
     "duration": 0.131579,
     "end_time": "2022-03-07T05:37:02.160622",
     "exception": false,
     "start_time": "2022-03-07T05:37:02.029043",
     "status": "completed"
    },
    "tags": []
   },
   "outputs": [],
   "source": [
    "direction = {'EB':1, 'NB':2, 'SB':3, 'WB':4, 'NE':5, 'SW':6, 'NW':7,'SE':8}\n",
    "\n",
    "train_df['direction'] = train_df['direction'].map(direction)\n",
    "test_df['direction'] = test_df['direction'].map(direction)"
   ]
  },
  {
   "cell_type": "code",
   "execution_count": 22,
   "id": "78496983",
   "metadata": {
    "execution": {
     "iopub.execute_input": "2022-03-07T05:37:02.270028Z",
     "iopub.status.busy": "2022-03-07T05:37:02.268897Z",
     "iopub.status.idle": "2022-03-07T05:37:02.348861Z",
     "shell.execute_reply": "2022-03-07T05:37:02.349297Z",
     "shell.execute_reply.started": "2022-03-07T05:34:54.810911Z"
    },
    "papermill": {
     "duration": 0.137715,
     "end_time": "2022-03-07T05:37:02.349491",
     "exception": false,
     "start_time": "2022-03-07T05:37:02.211776",
     "status": "completed"
    },
    "tags": []
   },
   "outputs": [],
   "source": [
    "test_row_id = test_df['row_id']\n",
    "\n",
    "train_df = train_df.drop(['row_id'], axis=1)\n",
    "test_df = test_df.drop(['row_id'], axis=1)"
   ]
  },
  {
   "cell_type": "code",
   "execution_count": 23,
   "id": "dfafeac2",
   "metadata": {
    "execution": {
     "iopub.execute_input": "2022-03-07T05:37:02.484268Z",
     "iopub.status.busy": "2022-03-07T05:37:02.483458Z",
     "iopub.status.idle": "2022-03-07T05:37:02.613008Z",
     "shell.execute_reply": "2022-03-07T05:37:02.612451Z",
     "shell.execute_reply.started": "2022-03-07T05:34:54.865614Z"
    },
    "papermill": {
     "duration": 0.210921,
     "end_time": "2022-03-07T05:37:02.613182",
     "exception": false,
     "start_time": "2022-03-07T05:37:02.402261",
     "status": "completed"
    },
    "tags": []
   },
   "outputs": [],
   "source": [
    "# Separate target from predictors\n",
    "X = train_df.drop(\"congestion\", axis=1)             \n",
    "Y = train_df[\"congestion\"]\n",
    "\n",
    "# Break off validation set from training data\n",
    "X_train, X_valid, Y_train, Y_valid = train_test_split(X, Y, train_size=0.8, test_size=0.2, random_state=0)"
   ]
  },
  {
   "cell_type": "code",
   "execution_count": 24,
   "id": "aa32c812",
   "metadata": {
    "execution": {
     "iopub.execute_input": "2022-03-07T05:37:02.721363Z",
     "iopub.status.busy": "2022-03-07T05:37:02.720806Z",
     "iopub.status.idle": "2022-03-07T05:37:02.724576Z",
     "shell.execute_reply": "2022-03-07T05:37:02.724138Z",
     "shell.execute_reply.started": "2022-03-07T05:34:55.016087Z"
    },
    "papermill": {
     "duration": 0.058603,
     "end_time": "2022-03-07T05:37:02.724691",
     "exception": false,
     "start_time": "2022-03-07T05:37:02.666088",
     "status": "completed"
    },
    "tags": []
   },
   "outputs": [],
   "source": [
    "X_test  = test_df.copy()"
   ]
  },
  {
   "cell_type": "code",
   "execution_count": 25,
   "id": "77f4917b",
   "metadata": {
    "execution": {
     "iopub.execute_input": "2022-03-07T05:37:02.835220Z",
     "iopub.status.busy": "2022-03-07T05:37:02.834123Z",
     "iopub.status.idle": "2022-03-07T05:37:02.837154Z",
     "shell.execute_reply": "2022-03-07T05:37:02.837580Z",
     "shell.execute_reply.started": "2022-03-07T05:34:55.022107Z"
    },
    "papermill": {
     "duration": 0.061309,
     "end_time": "2022-03-07T05:37:02.837706",
     "exception": false,
     "start_time": "2022-03-07T05:37:02.776397",
     "status": "completed"
    },
    "tags": []
   },
   "outputs": [
    {
     "data": {
      "text/plain": [
       "((667836, 10), (667836,), (166959, 10), (166959,), (2340, 10))"
      ]
     },
     "execution_count": 25,
     "metadata": {},
     "output_type": "execute_result"
    }
   ],
   "source": [
    "X_train.shape, Y_train.shape, X_valid.shape, Y_valid.shape,  X_test.shape"
   ]
  },
  {
   "cell_type": "code",
   "execution_count": 26,
   "id": "416be3cc",
   "metadata": {
    "execution": {
     "iopub.execute_input": "2022-03-07T05:37:02.946599Z",
     "iopub.status.busy": "2022-03-07T05:37:02.945125Z",
     "iopub.status.idle": "2022-03-07T05:37:02.947223Z",
     "shell.execute_reply": "2022-03-07T05:37:02.947662Z",
     "shell.execute_reply.started": "2022-03-07T05:34:55.033536Z"
    },
    "papermill": {
     "duration": 0.057905,
     "end_time": "2022-03-07T05:37:02.947784",
     "exception": false,
     "start_time": "2022-03-07T05:37:02.889879",
     "status": "completed"
    },
    "tags": []
   },
   "outputs": [],
   "source": [
    "# data normalization with sklearn\n",
    "from sklearn.preprocessing import MinMaxScaler"
   ]
  },
  {
   "cell_type": "code",
   "execution_count": 27,
   "id": "c80751d4",
   "metadata": {
    "execution": {
     "iopub.execute_input": "2022-03-07T05:37:03.059797Z",
     "iopub.status.busy": "2022-03-07T05:37:03.059069Z",
     "iopub.status.idle": "2022-03-07T05:37:03.061834Z",
     "shell.execute_reply": "2022-03-07T05:37:03.062318Z",
     "shell.execute_reply.started": "2022-03-07T05:34:55.109662Z"
    },
    "papermill": {
     "duration": 0.063812,
     "end_time": "2022-03-07T05:37:03.062470",
     "exception": false,
     "start_time": "2022-03-07T05:37:02.998658",
     "status": "completed"
    },
    "tags": []
   },
   "outputs": [
    {
     "data": {
      "text/html": [
       "<div>\n",
       "<style scoped>\n",
       "    .dataframe tbody tr th:only-of-type {\n",
       "        vertical-align: middle;\n",
       "    }\n",
       "\n",
       "    .dataframe tbody tr th {\n",
       "        vertical-align: top;\n",
       "    }\n",
       "\n",
       "    .dataframe thead th {\n",
       "        text-align: right;\n",
       "    }\n",
       "</style>\n",
       "<table border=\"1\" class=\"dataframe\">\n",
       "  <thead>\n",
       "    <tr style=\"text-align: right;\">\n",
       "      <th></th>\n",
       "      <th>x</th>\n",
       "      <th>y</th>\n",
       "      <th>direction</th>\n",
       "      <th>month</th>\n",
       "      <th>day</th>\n",
       "      <th>daytime</th>\n",
       "      <th>weekday</th>\n",
       "      <th>hour</th>\n",
       "      <th>dayofyear</th>\n",
       "      <th>isWeekDay</th>\n",
       "    </tr>\n",
       "  </thead>\n",
       "  <tbody>\n",
       "    <tr>\n",
       "      <th>152455</th>\n",
       "      <td>1</td>\n",
       "      <td>2</td>\n",
       "      <td>3</td>\n",
       "      <td>5</td>\n",
       "      <td>3</td>\n",
       "      <td>980</td>\n",
       "      <td>4</td>\n",
       "      <td>16</td>\n",
       "      <td>123</td>\n",
       "      <td>0</td>\n",
       "    </tr>\n",
       "    <tr>\n",
       "      <th>768315</th>\n",
       "      <td>0</td>\n",
       "      <td>3</td>\n",
       "      <td>6</td>\n",
       "      <td>9</td>\n",
       "      <td>12</td>\n",
       "      <td>1380</td>\n",
       "      <td>3</td>\n",
       "      <td>23</td>\n",
       "      <td>255</td>\n",
       "      <td>1</td>\n",
       "    </tr>\n",
       "    <tr>\n",
       "      <th>151064</th>\n",
       "      <td>0</td>\n",
       "      <td>1</td>\n",
       "      <td>2</td>\n",
       "      <td>5</td>\n",
       "      <td>3</td>\n",
       "      <td>560</td>\n",
       "      <td>4</td>\n",
       "      <td>9</td>\n",
       "      <td>123</td>\n",
       "      <td>0</td>\n",
       "    </tr>\n",
       "    <tr>\n",
       "      <th>511537</th>\n",
       "      <td>2</td>\n",
       "      <td>2</td>\n",
       "      <td>2</td>\n",
       "      <td>7</td>\n",
       "      <td>19</td>\n",
       "      <td>840</td>\n",
       "      <td>4</td>\n",
       "      <td>14</td>\n",
       "      <td>200</td>\n",
       "      <td>1</td>\n",
       "    </tr>\n",
       "    <tr>\n",
       "      <th>136570</th>\n",
       "      <td>0</td>\n",
       "      <td>1</td>\n",
       "      <td>3</td>\n",
       "      <td>4</td>\n",
       "      <td>30</td>\n",
       "      <td>420</td>\n",
       "      <td>1</td>\n",
       "      <td>7</td>\n",
       "      <td>120</td>\n",
       "      <td>1</td>\n",
       "    </tr>\n",
       "  </tbody>\n",
       "</table>\n",
       "</div>"
      ],
      "text/plain": [
       "        x  y  direction  month  day  daytime  weekday  hour  dayofyear  \\\n",
       "152455  1  2          3      5    3      980        4    16        123   \n",
       "768315  0  3          6      9   12     1380        3    23        255   \n",
       "151064  0  1          2      5    3      560        4     9        123   \n",
       "511537  2  2          2      7   19      840        4    14        200   \n",
       "136570  0  1          3      4   30      420        1     7        120   \n",
       "\n",
       "        isWeekDay  \n",
       "152455          0  \n",
       "768315          1  \n",
       "151064          0  \n",
       "511537          1  \n",
       "136570          1  "
      ]
     },
     "execution_count": 27,
     "metadata": {},
     "output_type": "execute_result"
    }
   ],
   "source": [
    "X_train.head(5)"
   ]
  },
  {
   "cell_type": "code",
   "execution_count": 28,
   "id": "e1745983",
   "metadata": {
    "execution": {
     "iopub.execute_input": "2022-03-07T05:37:03.172390Z",
     "iopub.status.busy": "2022-03-07T05:37:03.171375Z",
     "iopub.status.idle": "2022-03-07T05:37:03.243343Z",
     "shell.execute_reply": "2022-03-07T05:37:03.242796Z",
     "shell.execute_reply.started": "2022-03-07T05:34:55.039089Z"
    },
    "papermill": {
     "duration": 0.129566,
     "end_time": "2022-03-07T05:37:03.243482",
     "exception": false,
     "start_time": "2022-03-07T05:37:03.113916",
     "status": "completed"
    },
    "tags": []
   },
   "outputs": [],
   "source": [
    "# fit scaler on training data\n",
    "norm = MinMaxScaler().fit(X_train)\n",
    "\n",
    "# transform training data\n",
    "X_train = norm.transform(X_train)\n",
    "\n",
    "# transform testing dataabs\n",
    "X_valid = norm.transform(X_valid)\n",
    "\n",
    "# transform testing dataabs\n",
    "X_test = norm.transform(X_test)"
   ]
  },
  {
   "cell_type": "markdown",
   "id": "069209e0",
   "metadata": {
    "papermill": {
     "duration": 0.051788,
     "end_time": "2022-03-07T05:37:03.347414",
     "exception": false,
     "start_time": "2022-03-07T05:37:03.295626",
     "status": "completed"
    },
    "tags": []
   },
   "source": [
    "# Model Training & evaluation"
   ]
  },
  {
   "cell_type": "markdown",
   "id": "7f73e928",
   "metadata": {
    "papermill": {
     "duration": 0.052997,
     "end_time": "2022-03-07T05:37:03.453251",
     "exception": false,
     "start_time": "2022-03-07T05:37:03.400254",
     "status": "completed"
    },
    "tags": []
   },
   "source": [
    "**XGBoost Model**"
   ]
  },
  {
   "cell_type": "code",
   "execution_count": 29,
   "id": "40c85714",
   "metadata": {
    "execution": {
     "iopub.execute_input": "2022-03-07T05:37:03.563016Z",
     "iopub.status.busy": "2022-03-07T05:37:03.562171Z",
     "iopub.status.idle": "2022-03-07T05:37:21.536609Z",
     "shell.execute_reply": "2022-03-07T05:37:21.537664Z",
     "shell.execute_reply.started": "2022-03-07T05:34:55.130814Z"
    },
    "papermill": {
     "duration": 18.032529,
     "end_time": "2022-03-07T05:37:21.537878",
     "exception": false,
     "start_time": "2022-03-07T05:37:03.505349",
     "status": "completed"
    },
    "tags": []
   },
   "outputs": [
    {
     "name": "stdout",
     "output_type": "stream",
     "text": [
      "Performance on train data: 0.7444520071782441\n"
     ]
    }
   ],
   "source": [
    "xgb_model = xgb.XGBRegressor(random_state=42,n_estimators= 500,learning_rate=0.05,\n",
    "                      max_depth=8,booster='gbtree',verbosity=1,tree_method = 'gpu_hist')\n",
    "\n",
    "xgb_model.fit(X_train, Y_train,eval_metric='mae')\n",
    "\n",
    "print(\"Performance on train data:\", xgb_model.score(X_train, Y_train))"
   ]
  },
  {
   "cell_type": "code",
   "execution_count": 30,
   "id": "e5fd173b",
   "metadata": {
    "execution": {
     "iopub.execute_input": "2022-03-07T05:37:21.654709Z",
     "iopub.status.busy": "2022-03-07T05:37:21.646910Z",
     "iopub.status.idle": "2022-03-07T05:37:24.018684Z",
     "shell.execute_reply": "2022-03-07T05:37:24.019579Z",
     "shell.execute_reply.started": "2022-03-07T05:34:55.133021Z"
    },
    "papermill": {
     "duration": 2.428589,
     "end_time": "2022-03-07T05:37:24.019753",
     "exception": false,
     "start_time": "2022-03-07T05:37:21.591164",
     "status": "completed"
    },
    "tags": []
   },
   "outputs": [],
   "source": [
    "y_pred_v = xgb_model.predict(X_valid)"
   ]
  },
  {
   "cell_type": "code",
   "execution_count": 31,
   "id": "cac063b4",
   "metadata": {
    "execution": {
     "iopub.execute_input": "2022-03-07T05:37:24.133111Z",
     "iopub.status.busy": "2022-03-07T05:37:24.131565Z",
     "iopub.status.idle": "2022-03-07T05:37:24.136194Z",
     "shell.execute_reply": "2022-03-07T05:37:24.136775Z",
     "shell.execute_reply.started": "2022-03-07T05:34:55.134871Z"
    },
    "papermill": {
     "duration": 0.062889,
     "end_time": "2022-03-07T05:37:24.136943",
     "exception": false,
     "start_time": "2022-03-07T05:37:24.074054",
     "status": "completed"
    },
    "tags": []
   },
   "outputs": [
    {
     "name": "stdout",
     "output_type": "stream",
     "text": [
      "Mean absolute error : 6.182464525501537\n"
     ]
    }
   ],
   "source": [
    "error = mae(Y_valid, y_pred_v)\n",
    "  \n",
    "# display\n",
    "print(\"Mean absolute error : \" + str(error))"
   ]
  },
  {
   "cell_type": "code",
   "execution_count": 32,
   "id": "011eaef8",
   "metadata": {
    "execution": {
     "iopub.execute_input": "2022-03-07T05:37:24.246525Z",
     "iopub.status.busy": "2022-03-07T05:37:24.245822Z",
     "iopub.status.idle": "2022-03-07T05:37:24.494583Z",
     "shell.execute_reply": "2022-03-07T05:37:24.495101Z",
     "shell.execute_reply.started": "2022-03-07T05:34:55.136637Z"
    },
    "papermill": {
     "duration": 0.305113,
     "end_time": "2022-03-07T05:37:24.495270",
     "exception": false,
     "start_time": "2022-03-07T05:37:24.190157",
     "status": "completed"
    },
    "tags": []
   },
   "outputs": [
    {
     "data": {
      "image/png": "[encoded data removed]",
      "text/plain": [
       "<Figure size 720x432 with 1 Axes>"
      ]
     },
     "metadata": {},
     "output_type": "display_data"
    }
   ],
   "source": [
    "# plot feature importance\n",
    "plot_importance(xgb_model)\n",
    "plt.show()"
   ]
  },
  {
   "cell_type": "markdown",
   "id": "1cb9b3be",
   "metadata": {
    "papermill": {
     "duration": 0.05354,
     "end_time": "2022-03-07T05:37:24.602586",
     "exception": false,
     "start_time": "2022-03-07T05:37:24.549046",
     "status": "completed"
    },
    "tags": []
   },
   "source": [
    "**Random Forest**"
   ]
  },
  {
   "cell_type": "code",
   "execution_count": 33,
   "id": "41f4cd41",
   "metadata": {
    "execution": {
     "iopub.execute_input": "2022-03-07T05:37:24.715671Z",
     "iopub.status.busy": "2022-03-07T05:37:24.714563Z",
     "iopub.status.idle": "2022-03-07T05:44:08.457891Z",
     "shell.execute_reply": "2022-03-07T05:44:08.458552Z",
     "shell.execute_reply.started": "2022-03-07T05:34:55.138408Z"
    },
    "papermill": {
     "duration": 403.802195,
     "end_time": "2022-03-07T05:44:08.458767",
     "exception": false,
     "start_time": "2022-03-07T05:37:24.656572",
     "status": "completed"
    },
    "tags": []
   },
   "outputs": [
    {
     "data": {
      "text/plain": [
       "RandomForestRegressor(max_depth=20, n_estimators=200, random_state=0)"
      ]
     },
     "execution_count": 33,
     "metadata": {},
     "output_type": "execute_result"
    }
   ],
   "source": [
    "regr = RandomForestRegressor(random_state=0, bootstrap=True,max_depth= 20,max_features= 'auto',min_samples_leaf= 1,n_estimators=200)\n",
    "regr.fit(X_train, Y_train)"
   ]
  },
  {
   "cell_type": "code",
   "execution_count": 34,
   "id": "bff22e28",
   "metadata": {
    "execution": {
     "iopub.execute_input": "2022-03-07T05:44:08.581527Z",
     "iopub.status.busy": "2022-03-07T05:44:08.580661Z",
     "iopub.status.idle": "2022-03-07T05:44:21.338990Z",
     "shell.execute_reply": "2022-03-07T05:44:21.338427Z",
     "shell.execute_reply.started": "2022-03-07T05:34:55.140209Z"
    },
    "papermill": {
     "duration": 12.81694,
     "end_time": "2022-03-07T05:44:21.339114",
     "exception": false,
     "start_time": "2022-03-07T05:44:08.522174",
     "status": "completed"
    },
    "tags": []
   },
   "outputs": [],
   "source": [
    "y_pred_v = regr.predict(X_valid)"
   ]
  },
  {
   "cell_type": "code",
   "execution_count": 35,
   "id": "2997d22a",
   "metadata": {
    "execution": {
     "iopub.execute_input": "2022-03-07T05:44:21.455014Z",
     "iopub.status.busy": "2022-03-07T05:44:21.454325Z",
     "iopub.status.idle": "2022-03-07T05:44:21.457237Z",
     "shell.execute_reply": "2022-03-07T05:44:21.457693Z",
     "shell.execute_reply.started": "2022-03-07T05:34:55.142014Z"
    },
    "papermill": {
     "duration": 0.064633,
     "end_time": "2022-03-07T05:44:21.457826",
     "exception": false,
     "start_time": "2022-03-07T05:44:21.393193",
     "status": "completed"
    },
    "tags": []
   },
   "outputs": [
    {
     "name": "stdout",
     "output_type": "stream",
     "text": [
      "Mean absolute error : 5.603574267729353\n"
     ]
    }
   ],
   "source": [
    "error = mae(Y_valid, y_pred_v)\n",
    "\n",
    "# display\n",
    "print(\"Mean absolute error : \" + str(error))"
   ]
  },
  {
   "cell_type": "markdown",
   "id": "f425b339",
   "metadata": {
    "papermill": {
     "duration": 0.054109,
     "end_time": "2022-03-07T05:44:21.567076",
     "exception": false,
     "start_time": "2022-03-07T05:44:21.512967",
     "status": "completed"
    },
    "tags": []
   },
   "source": [
    "**CatBoost**"
   ]
  },
  {
   "cell_type": "code",
   "execution_count": 36,
   "id": "fd347882",
   "metadata": {
    "execution": {
     "iopub.execute_input": "2022-03-07T05:44:21.710434Z",
     "iopub.status.busy": "2022-03-07T05:44:21.697872Z",
     "iopub.status.idle": "2022-03-07T05:46:28.787539Z",
     "shell.execute_reply": "2022-03-07T05:46:28.788377Z",
     "shell.execute_reply.started": "2022-03-07T05:34:55.143795Z"
    },
    "papermill": {
     "duration": 127.166743,
     "end_time": "2022-03-07T05:46:28.788572",
     "exception": false,
     "start_time": "2022-03-07T05:44:21.621829",
     "status": "completed"
    },
    "tags": []
   },
   "outputs": [
    {
     "name": "stdout",
     "output_type": "stream",
     "text": [
      "0:\tlearn: 13.5488338\ttotal: 22.8ms\tremaining: 1m 8s\n",
      "100:\tlearn: 6.8629701\ttotal: 1.75s\tremaining: 50.1s\n",
      "200:\tlearn: 6.6239908\ttotal: 3.43s\tremaining: 47.8s\n",
      "300:\tlearn: 6.5428900\ttotal: 5.49s\tremaining: 49.3s\n",
      "400:\tlearn: 6.4862736\ttotal: 7.18s\tremaining: 46.6s\n",
      "500:\tlearn: 6.4539138\ttotal: 8.86s\tremaining: 44.2s\n",
      "600:\tlearn: 6.4286404\ttotal: 10.6s\tremaining: 42.2s\n",
      "700:\tlearn: 6.4105244\ttotal: 12.3s\tremaining: 40.3s\n",
      "800:\tlearn: 6.3978170\ttotal: 14.9s\tremaining: 40.8s\n",
      "900:\tlearn: 6.3868749\ttotal: 16.8s\tremaining: 39.2s\n",
      "1000:\tlearn: 6.3770027\ttotal: 18.5s\tremaining: 37s\n",
      "1100:\tlearn: 6.3695391\ttotal: 20.3s\tremaining: 34.9s\n",
      "1200:\tlearn: 6.3632119\ttotal: 21.9s\tremaining: 32.9s\n",
      "1300:\tlearn: 6.3577023\ttotal: 23.6s\tremaining: 30.9s\n",
      "1400:\tlearn: 6.3539349\ttotal: 25.4s\tremaining: 29s\n",
      "1500:\tlearn: 6.3509035\ttotal: 27.4s\tremaining: 27.4s\n",
      "1600:\tlearn: 6.3477987\ttotal: 29.1s\tremaining: 25.5s\n",
      "1700:\tlearn: 6.3443428\ttotal: 30.8s\tremaining: 23.6s\n",
      "1800:\tlearn: 6.3422816\ttotal: 32.6s\tremaining: 21.7s\n",
      "1900:\tlearn: 6.3402235\ttotal: 34.3s\tremaining: 19.8s\n",
      "2000:\tlearn: 6.3384656\ttotal: 36.1s\tremaining: 18s\n",
      "2100:\tlearn: 6.3368656\ttotal: 38.2s\tremaining: 16.4s\n",
      "2200:\tlearn: 6.3355352\ttotal: 39.9s\tremaining: 14.5s\n",
      "2300:\tlearn: 6.3345133\ttotal: 41.6s\tremaining: 12.6s\n",
      "2400:\tlearn: 6.3333947\ttotal: 43.3s\tremaining: 10.8s\n",
      "2500:\tlearn: 6.3321384\ttotal: 45s\tremaining: 8.98s\n",
      "2600:\tlearn: 6.3313388\ttotal: 47.3s\tremaining: 7.26s\n",
      "2700:\tlearn: 6.3304659\ttotal: 49.5s\tremaining: 5.48s\n",
      "2800:\tlearn: 6.3298108\ttotal: 51.2s\tremaining: 3.64s\n",
      "2900:\tlearn: 6.3289662\ttotal: 52.9s\tremaining: 1.8s\n",
      "2999:\tlearn: 6.3282295\ttotal: 54.6s\tremaining: 0us\n"
     ]
    },
    {
     "data": {
      "text/plain": [
       "<catboost.core.CatBoostRegressor at 0x7ff8d1975110>"
      ]
     },
     "execution_count": 36,
     "metadata": {},
     "output_type": "execute_result"
    }
   ],
   "source": [
    "model = CatBoostRegressor(verbose=100,early_stopping_rounds=10,max_depth=12,\n",
    "    task_type='GPU',learning_rate=0.035,iterations=3000,loss_function='MAE',eval_metric= 'MAE')\n",
    "model.fit(X_train, Y_train)"
   ]
  },
  {
   "cell_type": "code",
   "execution_count": 37,
   "id": "494960dc",
   "metadata": {
    "execution": {
     "iopub.execute_input": "2022-03-07T05:46:28.943213Z",
     "iopub.status.busy": "2022-03-07T05:46:28.942708Z",
     "iopub.status.idle": "2022-03-07T05:46:31.405430Z",
     "shell.execute_reply": "2022-03-07T05:46:31.406030Z",
     "shell.execute_reply.started": "2022-03-07T05:34:55.145545Z"
    },
    "papermill": {
     "duration": 2.533709,
     "end_time": "2022-03-07T05:46:31.406211",
     "exception": false,
     "start_time": "2022-03-07T05:46:28.872502",
     "status": "completed"
    },
    "tags": []
   },
   "outputs": [],
   "source": [
    "y_pred_v = model.predict(X_valid)"
   ]
  },
  {
   "cell_type": "code",
   "execution_count": 38,
   "id": "17444b20",
   "metadata": {
    "execution": {
     "iopub.execute_input": "2022-03-07T05:46:31.544078Z",
     "iopub.status.busy": "2022-03-07T05:46:31.543297Z",
     "iopub.status.idle": "2022-03-07T05:46:31.547754Z",
     "shell.execute_reply": "2022-03-07T05:46:31.548328Z",
     "shell.execute_reply.started": "2022-03-07T05:34:55.147299Z"
    },
    "papermill": {
     "duration": 0.075702,
     "end_time": "2022-03-07T05:46:31.548498",
     "exception": false,
     "start_time": "2022-03-07T05:46:31.472796",
     "status": "completed"
    },
    "tags": []
   },
   "outputs": [
    {
     "name": "stdout",
     "output_type": "stream",
     "text": [
      "Mean absolute error : 6.414883031655674\n"
     ]
    }
   ],
   "source": [
    "error = mae(Y_valid, y_pred_v)\n",
    "\n",
    "# display\n",
    "print(\"Mean absolute error : \" + str(error))"
   ]
  },
  {
   "cell_type": "markdown",
   "id": "2fc719b7",
   "metadata": {
    "papermill": {
     "duration": 0.066243,
     "end_time": "2022-03-07T05:46:31.680700",
     "exception": false,
     "start_time": "2022-03-07T05:46:31.614457",
     "status": "completed"
    },
    "tags": []
   },
   "source": [
    "# Prediction"
   ]
  },
  {
   "cell_type": "markdown",
   "id": "051007f5",
   "metadata": {
    "papermill": {
     "duration": 0.064599,
     "end_time": "2022-03-07T05:46:31.810474",
     "exception": false,
     "start_time": "2022-03-07T05:46:31.745875",
     "status": "completed"
    },
    "tags": []
   },
   "source": [
    "Random Forest Regressor has better performance and lower MAE compare to XGBoost on Cross Validation dataset. But when i tried uploading actual testing data, it seems XGB had better performance, so I went ahead with XGB"
   ]
  },
  {
   "cell_type": "code",
   "execution_count": 39,
   "id": "9372cebb",
   "metadata": {
    "execution": {
     "iopub.execute_input": "2022-03-07T05:46:32.004228Z",
     "iopub.status.busy": "2022-03-07T05:46:32.003541Z",
     "iopub.status.idle": "2022-03-07T05:46:32.064579Z",
     "shell.execute_reply": "2022-03-07T05:46:32.065956Z",
     "shell.execute_reply.started": "2022-03-07T05:34:55.149043Z"
    },
    "papermill": {
     "duration": 0.19064,
     "end_time": "2022-03-07T05:46:32.066375",
     "exception": false,
     "start_time": "2022-03-07T05:46:31.875735",
     "status": "completed"
    },
    "tags": []
   },
   "outputs": [],
   "source": [
    "y_pred_x = xgb_model.predict(X_test)"
   ]
  },
  {
   "cell_type": "markdown",
   "id": "b8972970",
   "metadata": {
    "papermill": {
     "duration": 0.118541,
     "end_time": "2022-03-07T05:46:32.328316",
     "exception": false,
     "start_time": "2022-03-07T05:46:32.209775",
     "status": "completed"
    },
    "tags": []
   },
   "source": [
    "# Submission"
   ]
  },
  {
   "cell_type": "code",
   "execution_count": 40,
   "id": "50724be6",
   "metadata": {
    "execution": {
     "iopub.execute_input": "2022-03-07T05:46:32.538037Z",
     "iopub.status.busy": "2022-03-07T05:46:32.537222Z",
     "iopub.status.idle": "2022-03-07T05:46:32.539012Z",
     "shell.execute_reply": "2022-03-07T05:46:32.539585Z",
     "shell.execute_reply.started": "2022-03-07T05:34:55.151353Z"
    },
    "papermill": {
     "duration": 0.095993,
     "end_time": "2022-03-07T05:46:32.539732",
     "exception": false,
     "start_time": "2022-03-07T05:46:32.443739",
     "status": "completed"
    },
    "tags": []
   },
   "outputs": [],
   "source": [
    "#Create a  DataFrame with the passengers ids and our prediction\n",
    "submission = pd.DataFrame({'row_id':test_row_id,'congestion':y_pred_x})"
   ]
  },
  {
   "cell_type": "code",
   "execution_count": 41,
   "id": "6ccc878a",
   "metadata": {
    "execution": {
     "iopub.execute_input": "2022-03-07T05:46:32.682961Z",
     "iopub.status.busy": "2022-03-07T05:46:32.682178Z",
     "iopub.status.idle": "2022-03-07T05:46:32.684964Z",
     "shell.execute_reply": "2022-03-07T05:46:32.685465Z",
     "shell.execute_reply.started": "2022-03-07T05:34:55.153147Z"
    },
    "papermill": {
     "duration": 0.07907,
     "end_time": "2022-03-07T05:46:32.685623",
     "exception": false,
     "start_time": "2022-03-07T05:46:32.606553",
     "status": "completed"
    },
    "tags": []
   },
   "outputs": [
    {
     "data": {
      "text/html": [
       "<div>\n",
       "<style scoped>\n",
       "    .dataframe tbody tr th:only-of-type {\n",
       "        vertical-align: middle;\n",
       "    }\n",
       "\n",
       "    .dataframe tbody tr th {\n",
       "        vertical-align: top;\n",
       "    }\n",
       "\n",
       "    .dataframe thead th {\n",
       "        text-align: right;\n",
       "    }\n",
       "</style>\n",
       "<table border=\"1\" class=\"dataframe\">\n",
       "  <thead>\n",
       "    <tr style=\"text-align: right;\">\n",
       "      <th></th>\n",
       "      <th>row_id</th>\n",
       "      <th>congestion</th>\n",
       "    </tr>\n",
       "  </thead>\n",
       "  <tbody>\n",
       "    <tr>\n",
       "      <th>0</th>\n",
       "      <td>848835</td>\n",
       "      <td>49.339394</td>\n",
       "    </tr>\n",
       "    <tr>\n",
       "      <th>1</th>\n",
       "      <td>848836</td>\n",
       "      <td>38.047691</td>\n",
       "    </tr>\n",
       "    <tr>\n",
       "      <th>2</th>\n",
       "      <td>848837</td>\n",
       "      <td>42.953808</td>\n",
       "    </tr>\n",
       "    <tr>\n",
       "      <th>3</th>\n",
       "      <td>848838</td>\n",
       "      <td>23.042454</td>\n",
       "    </tr>\n",
       "    <tr>\n",
       "      <th>4</th>\n",
       "      <td>848839</td>\n",
       "      <td>68.675507</td>\n",
       "    </tr>\n",
       "  </tbody>\n",
       "</table>\n",
       "</div>"
      ],
      "text/plain": [
       "   row_id  congestion\n",
       "0  848835   49.339394\n",
       "1  848836   38.047691\n",
       "2  848837   42.953808\n",
       "3  848838   23.042454\n",
       "4  848839   68.675507"
      ]
     },
     "execution_count": 41,
     "metadata": {},
     "output_type": "execute_result"
    }
   ],
   "source": [
    "submission.head(5)"
   ]
  },
  {
   "cell_type": "code",
   "execution_count": 42,
   "id": "34eee37b",
   "metadata": {
    "execution": {
     "iopub.execute_input": "2022-03-07T05:46:32.821484Z",
     "iopub.status.busy": "2022-03-07T05:46:32.820889Z",
     "iopub.status.idle": "2022-03-07T05:46:32.833119Z",
     "shell.execute_reply": "2022-03-07T05:46:32.832532Z",
     "shell.execute_reply.started": "2022-03-07T05:34:55.154977Z"
    },
    "papermill": {
     "duration": 0.081587,
     "end_time": "2022-03-07T05:46:32.833258",
     "exception": false,
     "start_time": "2022-03-07T05:46:32.751671",
     "status": "completed"
    },
    "tags": []
   },
   "outputs": [
    {
     "name": "stdout",
     "output_type": "stream",
     "text": [
      "Saved file: submission.csv\n"
     ]
    }
   ],
   "source": [
    "filename = 'submission.csv'\n",
    "\n",
    "submission.to_csv(filename,index=False)\n",
    "\n",
    "print('Saved file: ' + filename)"
   ]
  },
  {
   "cell_type": "markdown",
   "id": "54df9fdc",
   "metadata": {
    "papermill": {
     "duration": 0.067772,
     "end_time": "2022-03-07T05:46:32.969165",
     "exception": false,
     "start_time": "2022-03-07T05:46:32.901393",
     "status": "completed"
    },
    "tags": []
   },
   "source": [
    "# **Please upvote the notebook if you liked it.**"
   ]
  }
 ],
 "metadata": {
  "kernelspec": {
   "display_name": "Python 3",
   "language": "python",
   "name": "python3"
  },
  "language_info": {
   "codemirror_mode": {
    "name": "ipython",
    "version": 3
   },
   "file_extension": ".py",
   "mimetype": "text/x-python",
   "name": "python",
   "nbconvert_exporter": "python",
   "pygments_lexer": "ipython3",
   "version": "3.7.12"
  },
  "papermill": {
   "default_parameters": {},
   "duration": 594.970002,
   "end_time": "2022-03-07T05:46:34.349400",
   "environment_variables": {},
   "exception": null,
   "input_path": "__notebook__.ipynb",
   "output_path": "__notebook__.ipynb",
   "parameters": {},
   "start_time": "2022-03-07T05:36:39.379398",
   "version": "2.3.3"
  }
 },
 "nbformat": 4,
 "nbformat_minor": 5
}
